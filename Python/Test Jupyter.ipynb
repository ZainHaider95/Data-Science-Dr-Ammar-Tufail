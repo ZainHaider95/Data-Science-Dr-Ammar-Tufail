{
 "cells": [
  {
   "cell_type": "markdown",
   "metadata": {},
   "source": [
    "# Python Ka Chila with Baba Ammar\n",
    "\n",
    "## How to use Jupyter Notebook\n"
   ]
  },
  {
   "cell_type": "markdown",
   "metadata": {},
   "source": [
    "# 1 First Program"
   ]
  },
  {
   "cell_type": "code",
   "execution_count": 1,
   "metadata": {},
   "outputs": [
    {
     "name": "stdout",
     "output_type": "stream",
     "text": [
      "5\n",
      "Hello World\n",
      "We are Learning Python with Ammar\n"
     ]
    }
   ],
   "source": [
    "print(2+3)\n",
    "print(\"Hello World\")\n",
    "print(\"We are Learning Python with Ammar\")"
   ]
  },
  {
   "cell_type": "markdown",
   "metadata": {},
   "source": [
    "# 2 Operators"
   ]
  },
  {
   "cell_type": "code",
   "execution_count": 2,
   "metadata": {},
   "outputs": [
    {
     "name": "stdout",
     "output_type": "stream",
     "text": [
      "8\n",
      "3\n",
      "12\n",
      "3.5\n",
      "3\n",
      "1\n",
      "9\n",
      "117.66666666666667\n"
     ]
    }
   ],
   "source": [
    "# 4 basic operators\n",
    "print(5+3)\n",
    "print(4-1)\n",
    "print(3*4)\n",
    "print(7/2)\n",
    "\n",
    "# remove decimal and divide\n",
    "print(7//2)\n",
    "\n",
    "# Check Remainder\n",
    "print(7%2)\n",
    "\n",
    "# Exponent\n",
    "print(3**2)\n",
    "\n",
    "# Merging all operators - PEDMAS rule\n",
    "print(4**3*5/3-8+19)\n"
   ]
  },
  {
   "cell_type": "markdown",
   "metadata": {},
   "source": [
    "# 3 Strings"
   ]
  },
  {
   "cell_type": "code",
   "execution_count": 3,
   "metadata": {},
   "outputs": [
    {
     "name": "stdout",
     "output_type": "stream",
     "text": [
      " Test Single Quote\n",
      " Test Double Quotes\n",
      " Test Triple Quotes \n"
     ]
    }
   ],
   "source": [
    "print (' Test Single Quote')\n",
    "print (\" Test Double Quotes\")\n",
    "print ( ''' Test Triple Quotes ''')"
   ]
  },
  {
   "cell_type": "markdown",
   "metadata": {},
   "source": [
    "# 4 Comments"
   ]
  },
  {
   "cell_type": "code",
   "execution_count": 4,
   "metadata": {},
   "outputs": [
    {
     "name": "stdout",
     "output_type": "stream",
     "text": [
      "Print line\n",
      "102\n"
     ]
    }
   ],
   "source": [
    "# This '#' is used for comments  \n",
    "#  Use Cntrl + / for commenting line\n",
    "\n",
    "# print (\"Print\")\n",
    "print ('Print line')\n",
    "print (3+99)"
   ]
  },
  {
   "cell_type": "markdown",
   "metadata": {},
   "source": [
    "# 5 Variables"
   ]
  },
  {
   "cell_type": "code",
   "execution_count": 5,
   "metadata": {},
   "outputs": [
    {
     "name": "stdout",
     "output_type": "stream",
     "text": [
      "5\n",
      "15\n",
      "Learning Variables\n",
      "<class 'int'>\n",
      "<class 'str'>\n",
      "Mangoes\n"
     ]
    }
   ],
   "source": [
    "x=5\n",
    "print (x)\n",
    "\n",
    "# changing x value, by adding 10\n",
    "x=x+10\n",
    "print (x)\n",
    "\n",
    "y='Learning Variables'\n",
    "print (y)\n",
    "\n",
    "# Checking Type of Varibles:\n",
    "print(type(x))\n",
    "print(type(y))\n",
    "\n",
    "# Delete a variable\n",
    "basket='Mangoes'\n",
    "print(basket)\n",
    "del basket\n",
    "# If we print(basket), it will give error\n",
    "# print(basket) \n"
   ]
  },
  {
   "cell_type": "markdown",
   "metadata": {},
   "source": [
    "# 6 Input Variables"
   ]
  },
  {
   "cell_type": "code",
   "execution_count": 6,
   "metadata": {},
   "outputs": [
    {
     "name": "stdout",
     "output_type": "stream",
     "text": [
      "mangoes\n"
     ]
    }
   ],
   "source": [
    "#simple variable assignment\n",
    "basket='mangoes'\n",
    "print (basket)"
   ]
  },
  {
   "cell_type": "code",
   "execution_count": 7,
   "metadata": {},
   "outputs": [
    {
     "name": "stdout",
     "output_type": "stream",
     "text": [
      "What's your favourite fruit?  Apple\n",
      "Apple\n"
     ]
    }
   ],
   "source": [
    "#Asking from user by Using input function\n",
    "basket=input(\"What's your favourite fruit?  \")\n",
    "print(basket)"
   ]
  },
  {
   "cell_type": "code",
   "execution_count": 8,
   "metadata": {},
   "outputs": [
    {
     "name": "stdout",
     "output_type": "stream",
     "text": [
      "What's your name? Zain\n",
      "Hello  Zain\n"
     ]
    }
   ],
   "source": [
    "#Advance input function: Type 1\n",
    "name=input(\"What's your name? \")\n",
    "greetings='Hello '\n",
    "print(greetings, name)"
   ]
  },
  {
   "cell_type": "code",
   "execution_count": 9,
   "metadata": {},
   "outputs": [
    {
     "name": "stdout",
     "output_type": "stream",
     "text": [
      "What's your name? Zain\n",
      "What's your age? 26\n",
      "Hello  Zain , You're still young.\n"
     ]
    }
   ],
   "source": [
    "#Advance input function: Type 2\n",
    "name=input(\"What's your name? \")\n",
    "age = input (\"What's your age? \")\n",
    "greetings='Hello '\n",
    "print(greetings, name, \", You're still young.\")"
   ]
  },
  {
   "cell_type": "markdown",
   "metadata": {},
   "source": [
    "# 7 Conditional Logics"
   ]
  },
  {
   "cell_type": "code",
   "execution_count": 10,
   "metadata": {},
   "outputs": [
    {
     "name": "stdout",
     "output_type": "stream",
     "text": [
      "True\n",
      "False\n",
      "True\n",
      "False\n"
     ]
    }
   ],
   "source": [
    "# Logical Operator is True/False , O/1 or Yes/No.\n",
    "\n",
    "# Equal to                       ==\n",
    "# not equal to                   !=\n",
    "# less than                      < \n",
    "# greater than                   >\n",
    "# less than and equal to         <=\n",
    "# greater than and equal to      <=\n",
    "\n",
    "print(4==4)\n",
    "print(5!=5)\n",
    "print(78>55)\n",
    "print(44<=40)"
   ]
  },
  {
   "cell_type": "code",
   "execution_count": 11,
   "metadata": {},
   "outputs": [
    {
     "name": "stdout",
     "output_type": "stream",
     "text": [
      "True\n"
     ]
    }
   ],
   "source": [
    "#Checking age is greater than or equal to the limit\n",
    "age=20\n",
    "limit=15\n",
    "print(age>= limit)"
   ]
  },
  {
   "cell_type": "code",
   "execution_count": 12,
   "metadata": {},
   "outputs": [
    {
     "name": "stdout",
     "output_type": "stream",
     "text": [
      "Enter Age: 26\n",
      "True\n"
     ]
    }
   ],
   "source": [
    "#Cheking age limit by entering age\n",
    "age= int (input(\"Enter Age: \"))\n",
    "limit= 15\n",
    "print (age>= limit)"
   ]
  },
  {
   "cell_type": "markdown",
   "metadata": {},
   "source": [
    "# 8 Type Coversion"
   ]
  },
  {
   "cell_type": "code",
   "execution_count": 13,
   "metadata": {},
   "outputs": [
    {
     "name": "stdout",
     "output_type": "stream",
     "text": [
      "9.600000000000001  Type of x:  <class 'float'>\n"
     ]
    }
   ],
   "source": [
    "x= 3       # type int\n",
    "y= 3.2     # type float\n",
    "z= 'Hi '   # type string\n",
    "\n",
    "# Implicit Coversion\n",
    "x= y*x    # type will be float\n",
    "print(x, \" Type of x: \", type(x))"
   ]
  },
  {
   "cell_type": "code",
   "execution_count": 14,
   "metadata": {},
   "outputs": [
    {
     "name": "stdout",
     "output_type": "stream",
     "text": [
      "Enter your age: 26\n",
      "26 Type:  <class 'int'>\n"
     ]
    }
   ],
   "source": [
    "# Explicit Conversion\n",
    "age= input(\"Enter your age: \")\n",
    "age= int(age) # Changing type\n",
    "print (age, \"Type: \", type(age))"
   ]
  },
  {
   "cell_type": "markdown",
   "metadata": {},
   "source": [
    "# 9 If Else Elif"
   ]
  },
  {
   "cell_type": "code",
   "execution_count": 15,
   "metadata": {},
   "outputs": [
    {
     "name": "stdout",
     "output_type": "stream",
     "text": [
      "You cannot join the school.\n"
     ]
    }
   ],
   "source": [
    "age= 4\n",
    "required = 6\n",
    "\n",
    "if age == required:\n",
    "    print('You can join school.')\n",
    "elif age < required:\n",
    "    print ('You cannot join the school.')\n",
    "elif age <= 2:\n",
    "    print ('You should Take Care of him, because he is a baby.')\n",
    "else:\n",
    "    print ('You can join higher classes.')\n"
   ]
  },
  {
   "cell_type": "markdown",
   "metadata": {},
   "source": [
    "# 10 Functions"
   ]
  },
  {
   "cell_type": "code",
   "execution_count": 16,
   "metadata": {},
   "outputs": [
    {
     "name": "stdout",
     "output_type": "stream",
     "text": [
      " We are Learning Python\n",
      " We are Learning Python\n"
     ]
    }
   ],
   "source": [
    "# Defining Function Methord: 1\n",
    "\n",
    "def code():\n",
    "    print(\" We are Learning Python\")\n",
    "    print(\" We are Learning Python\")\n",
    "\n",
    "code() # calling function\n"
   ]
  },
  {
   "cell_type": "code",
   "execution_count": 17,
   "metadata": {},
   "outputs": [
    {
     "name": "stdout",
     "output_type": "stream",
     "text": [
      " We are Learning Python\n",
      " We are Learning Python\n"
     ]
    }
   ],
   "source": [
    "# Defining Function Methord: 2\n",
    "\n",
    "def code():\n",
    "    text= \" We are Learning Python\"\n",
    "    print(text)\n",
    "    print(text)\n",
    "\n",
    "code() # calling function\n"
   ]
  },
  {
   "cell_type": "code",
   "execution_count": 18,
   "metadata": {},
   "outputs": [
    {
     "name": "stdout",
     "output_type": "stream",
     "text": [
      " We are Learning Python\n",
      " We are Learning Python\n"
     ]
    }
   ],
   "source": [
    "# Defining Function Methord: 3\n",
    "\n",
    "def code(text):\n",
    "   \n",
    "    print(text)\n",
    "    print(text)\n",
    "\n",
    "code(\" We are Learning Python\") # calling function\n"
   ]
  },
  {
   "cell_type": "code",
   "execution_count": 19,
   "metadata": {},
   "outputs": [
    {
     "name": "stdout",
     "output_type": "stream",
     "text": [
      "The Kid should go to higher class.\n"
     ]
    }
   ],
   "source": [
    "# Defining School Age Calculation Using Function and if,else,elif Statements\n",
    "\n",
    "def school_calculation(age):\n",
    "\n",
    "    if age == 5:\n",
    "        print(\"The Kid can go to school.\")\n",
    "    elif age > 5:\n",
    "        print(\"The Kid should go to higher class.\")\n",
    "    else:\n",
    "        print (\"The Kid is still a baby.\")\n",
    "\n",
    "school_calculation(7)"
   ]
  },
  {
   "cell_type": "code",
   "execution_count": 20,
   "metadata": {},
   "outputs": [
    {
     "name": "stdout",
     "output_type": "stream",
     "text": [
      "45\n"
     ]
    }
   ],
   "source": [
    "# Finding future age \n",
    "\n",
    "def FutureAge (age):\n",
    "    NewAge= age + 20\n",
    "    return (NewAge)\n",
    "\n",
    "FuturePredictedAge = FutureAge (25)\n",
    "print(FuturePredictedAge)"
   ]
  },
  {
   "cell_type": "markdown",
   "metadata": {},
   "source": [
    "# 11 Loops"
   ]
  },
  {
   "cell_type": "code",
   "execution_count": 21,
   "metadata": {},
   "outputs": [
    {
     "name": "stdout",
     "output_type": "stream",
     "text": [
      "0\n",
      "1\n",
      "2\n",
      "3\n",
      "4\n",
      "5\n"
     ]
    }
   ],
   "source": [
    "# Loop 1: While\n",
    "\n",
    "x=0\n",
    "while (x<=5):\n",
    "    print(x)\n",
    "    x=x+1"
   ]
  },
  {
   "cell_type": "code",
   "execution_count": 22,
   "metadata": {},
   "outputs": [
    {
     "name": "stdout",
     "output_type": "stream",
     "text": [
      "5\n",
      "6\n",
      "7\n",
      "8\n",
      "9\n"
     ]
    }
   ],
   "source": [
    "# Loop 2: For\n",
    "\n",
    "for x in range (5,10):\n",
    "    print(x)  # The data in range will be printed, [included 5 in some IDEs]."
   ]
  },
  {
   "cell_type": "code",
   "execution_count": 23,
   "metadata": {},
   "outputs": [
    {
     "name": "stdout",
     "output_type": "stream",
     "text": [
      "Mon\n",
      "Tues\n",
      "Wed\n",
      "Thu\n",
      "Fri\n",
      "Sat\n",
      "Sun\n"
     ]
    }
   ],
   "source": [
    "# Working with Arrays\n",
    "\n",
    "days= ['Mon','Tues','Wed','Thu','Fri','Sat','Sun'] \n",
    "\n",
    "for d in days:\n",
    "    print (d)"
   ]
  },
  {
   "cell_type": "code",
   "execution_count": 24,
   "metadata": {},
   "outputs": [
    {
     "name": "stdout",
     "output_type": "stream",
     "text": [
      "Mon\n",
      "Tues\n",
      "Wed\n",
      "Thu\n"
     ]
    }
   ],
   "source": [
    "# Using break in Array\n",
    "\n",
    "days= ['Mon','Tues','Wed','Thu','Fri','Sat','Sun'] \n",
    "\n",
    "for d in days:\n",
    "    if d == 'Fri':\n",
    "        break        # break means stoping the loop\n",
    "    print (d)"
   ]
  },
  {
   "cell_type": "code",
   "execution_count": 25,
   "metadata": {},
   "outputs": [
    {
     "name": "stdout",
     "output_type": "stream",
     "text": [
      "Mon\n",
      "Tues\n",
      "Wed\n",
      "Thu\n",
      "Sat\n",
      "Sun\n"
     ]
    }
   ],
   "source": [
    "# Using continue in Array\n",
    "\n",
    "days= ['Mon','Tues','Wed','Thu','Fri','Sat','Sun'] \n",
    "\n",
    "for d in days:\n",
    "    if d == 'Fri':\n",
    "        continue        # continue means skiping value in the loop\n",
    "    print (d)"
   ]
  },
  {
   "cell_type": "code",
   "execution_count": 26,
   "metadata": {},
   "outputs": [
    {
     "name": "stdout",
     "output_type": "stream",
     "text": [
      "Mon\n",
      "Tues\n",
      "Wed\n",
      "Thu\n",
      "Fri\n",
      "Sat\n",
      "Sun\n"
     ]
    }
   ],
   "source": [
    "# Using pass in Array\n",
    "\n",
    "days= ['Mon','Tues','Wed','Thu','Fri','Sat','Sun'] \n",
    "\n",
    "for d in days:\n",
    "    if d == 'Fri':\n",
    "        pass        # pass means to do nothing in the loop\n",
    "    print (d)"
   ]
  },
  {
   "cell_type": "markdown",
   "metadata": {},
   "source": [
    "# 12 Import Libraries"
   ]
  },
  {
   "cell_type": "code",
   "execution_count": 27,
   "metadata": {},
   "outputs": [
    {
     "name": "stdout",
     "output_type": "stream",
     "text": [
      "Value of pi is :  3.141592653589793\n",
      "Average of array is : 84.4\n"
     ]
    }
   ],
   "source": [
    "# Print value of pi, by importing library\n",
    "\n",
    "import math\n",
    "print(\"Value of pi is : \", math.pi)\n",
    "\n",
    "import statistics\n",
    "x=[123,45,67,89,98]\n",
    "print(\"Average of array is :\", statistics.mean(x))\n"
   ]
  },
  {
   "cell_type": "markdown",
   "metadata": {},
   "source": [
    "# 13 Trouble Shooting"
   ]
  },
  {
   "cell_type": "code",
   "execution_count": 28,
   "metadata": {},
   "outputs": [
    {
     "name": "stdout",
     "output_type": "stream",
     "text": [
      " Hello Ammar\n"
     ]
    }
   ],
   "source": [
    "# syntax error\n",
    "# print (\"go)  #  Here the comma is missing\n",
    "\n",
    "# Run-Time Error\n",
    "# print(25/0) # Error in the value\n",
    "\n",
    "# Semantic Error\n",
    "name = 'Ammar'\n",
    "# print (\" Hello name\") # It will print the command without showing error\n",
    "print (\" Hello\", name)\n"
   ]
  }
 ],
 "metadata": {
  "kernelspec": {
   "display_name": "Python 3",
   "language": "python",
   "name": "python3"
  },
  "language_info": {
   "codemirror_mode": {
    "name": "ipython",
    "version": 3
   },
   "file_extension": ".py",
   "mimetype": "text/x-python",
   "name": "python",
   "nbconvert_exporter": "python",
   "pygments_lexer": "ipython3",
   "version": "3.8.5"
  }
 },
 "nbformat": 4,
 "nbformat_minor": 4
}
